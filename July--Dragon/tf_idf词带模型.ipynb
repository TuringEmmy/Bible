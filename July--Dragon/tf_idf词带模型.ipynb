{
  "nbformat": 4,
  "nbformat_minor": 0,
  "metadata": {
    "colab": {
      "name": "tf-idf词带模型.ipynb",
      "provenance": []
    },
    "kernelspec": {
      "name": "python3",
      "display_name": "Python 3"
    }
  },
  "cells": [
    {
      "cell_type": "markdown",
      "metadata": {
        "id": "-lkNmiXtmHY6",
        "colab_type": "text"
      },
      "source": [
        "TF-idf模型：TF表示的是词频：即这个词在一篇文档中出现的频率\n",
        "\n",
        "idf表示的是逆文档频率， 即log(文档的个数/1+出现该词的文档个数)  可以看出出现该词的文档个数越小，表示这个词越稀有，在这篇文档中也是越重要的\n",
        "\n",
        "TF-idf： 表示TF*idf, 即词频*逆文档频率\n",
        "\n",
        "词袋模型不仅考虑了一个词的词频，同时考虑了这个词在整个语料库中的重要性"
      ]
    },
    {
      "cell_type": "code",
      "metadata": {
        "id": "MIfSXBv0mRCH",
        "colab_type": "code",
        "colab": {
          "base_uri": "https://localhost:8080/",
          "height": 68
        },
        "outputId": "0c174737-840e-4966-c093-3dd10fabaaf2"
      },
      "source": [
        "import pandas as pd\n",
        "import numpy as np\n",
        "import re\n",
        "import nltk #pip install nltk\n",
        "nltk.download('stopwords')"
      ],
      "execution_count": 5,
      "outputs": [
        {
          "output_type": "stream",
          "text": [
            "[nltk_data] Downloading package stopwords to /root/nltk_data...\n",
            "[nltk_data]   Unzipping corpora/stopwords.zip.\n"
          ],
          "name": "stdout"
        },
        {
          "output_type": "execute_result",
          "data": {
            "text/plain": [
              "True"
            ]
          },
          "metadata": {
            "tags": []
          },
          "execution_count": 5
        }
      ]
    },
    {
      "cell_type": "code",
      "metadata": {
        "id": "Qr333phRmJb9",
        "colab_type": "code",
        "colab": {}
      },
      "source": [
        "corpus = ['The sky is blue and beautiful.',\n",
        "          'Love this blue and beautiful sky!',\n",
        "          'The quick brown fox jumps over the lazy dog.',\n",
        "          'The brown fox is quick and the blue dog is lazy!',\n",
        "          'The sky is very blue and the sky is very beautiful today',\n",
        "          'The dog is lazy but the brown fox is quick!'\n",
        "]\n",
        "\n",
        "labels = ['weather', 'weather', 'animals', 'animals', 'weather', 'animals']"
      ],
      "execution_count": 6,
      "outputs": []
    },
    {
      "cell_type": "code",
      "metadata": {
        "id": "JkvcN5Lwmahq",
        "colab_type": "code",
        "colab": {}
      },
      "source": [
        "# 第一步：构建DataFrame格式数据\n",
        "corpus = np.array(corpus)\n",
        "corpus_df = pd.DataFrame({'Document': corpus, 'categoray': labels})"
      ],
      "execution_count": 7,
      "outputs": []
    },
    {
      "cell_type": "code",
      "metadata": {
        "id": "bvrkGQnJmb6g",
        "colab_type": "code",
        "colab": {}
      },
      "source": [
        "# 第二步：构建函数进行分词和停用词的去除\n",
        "# 载入英文的停用词表\n",
        "stopwords = nltk.corpus.stopwords.words('english')\n",
        "# 建立词分割模型\n",
        "cut_model = nltk.WordPunctTokenizer()\n",
        "# 定义分词和停用词去除的函数\n",
        "def Normalize_corpus(doc):\n",
        "    # 去除字符串中结尾的标点符号\n",
        "    doc = re.sub(r'[^a-zA-Z0-9\\s]', '', string=doc)\n",
        "    # 是字符串变小写格式\n",
        "    doc = doc.lower()\n",
        "    # 去除字符串两边的空格\n",
        "    doc = doc.strip()\n",
        "    # 进行分词操作\n",
        "    tokens = cut_model.tokenize(doc)\n",
        "    # 使用停止用词表去除停用词\n",
        "    doc = [token for token in tokens if token not in stopwords]\n",
        "    # 将去除停用词后的字符串使用' '连接，为了接下来的词袋模型做准备\n",
        "    doc = ' '.join(doc)\n",
        "\n",
        "    return doc"
      ],
      "execution_count": 8,
      "outputs": []
    },
    {
      "cell_type": "code",
      "metadata": {
        "id": "bDVGgC_TmeLG",
        "colab_type": "code",
        "colab": {}
      },
      "source": [
        "# 第三步：向量化函数和调用函数\n",
        "# 向量化函数,当输入一个列表时，列表里的数将被一个一个输入，最后返回也是一个个列表的输出\n",
        "Normalize_corpus = np.vectorize(Normalize_corpus)\n",
        "# 调用函数进行分词和去除停用词\n",
        "corpus_norm = Normalize_corpus(corpus)\n"
      ],
      "execution_count": 9,
      "outputs": []
    },
    {
      "cell_type": "code",
      "metadata": {
        "id": "VqrSqnI-mv6j",
        "colab_type": "code",
        "colab": {
          "base_uri": "https://localhost:8080/",
          "height": 153
        },
        "outputId": "88bfa39b-c523-42bd-9781-0c831c0c8317"
      },
      "source": [
        "# 第四步：使用TfidVectorizer进行TF-idf词袋模型的构建\n",
        "from sklearn.feature_extraction.text import TfidfVectorizer\n",
        "\n",
        "Tf = TfidfVectorizer(use_idf=True)\n",
        "Tf.fit(corpus_norm)\n",
        "vocs = Tf.get_feature_names()\n",
        "corpus_array = Tf.transform(corpus_norm).toarray()\n",
        "corpus_norm_df = pd.DataFrame(corpus_array, columns=vocs)\n",
        "print(corpus_norm_df.head())"
      ],
      "execution_count": 10,
      "outputs": [
        {
          "output_type": "stream",
          "text": [
            "   beautiful      blue     brown  ...     quick       sky     today\n",
            "0   0.604749  0.518224  0.000000  ...  0.000000  0.604749  0.000000\n",
            "1   0.455454  0.390289  0.000000  ...  0.000000  0.455454  0.000000\n",
            "2   0.000000  0.000000  0.375653  ...  0.375653  0.000000  0.000000\n",
            "3   0.000000  0.357850  0.417599  ...  0.417599  0.000000  0.000000\n",
            "4   0.357583  0.306421  0.000000  ...  0.000000  0.715166  0.516505\n",
            "\n",
            "[5 rows x 11 columns]\n"
          ],
          "name": "stdout"
        }
      ]
    }
  ]
}