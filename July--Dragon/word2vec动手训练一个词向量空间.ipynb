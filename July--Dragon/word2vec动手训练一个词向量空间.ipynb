{
  "nbformat": 4,
  "nbformat_minor": 0,
  "metadata": {
    "kernelspec": {
      "display_name": "Python 3",
      "language": "python",
      "name": "python3"
    },
    "language_info": {
      "codemirror_mode": {
        "name": "ipython",
        "version": 3
      },
      "file_extension": ".py",
      "mimetype": "text/x-python",
      "name": "python",
      "nbconvert_exporter": "python",
      "pygments_lexer": "ipython3",
      "version": "3.6.7"
    },
    "colab": {
      "name": "word2vec动手训练一个词向量空间.ipynb",
      "provenance": []
    }
  },
  "cells": [
    {
      "cell_type": "markdown",
      "metadata": {
        "id": "Wpba9QuJ7YPT",
        "colab_type": "text"
      },
      "source": [
        "## Import Libraries and Load Data"
      ]
    },
    {
      "cell_type": "code",
      "metadata": {
        "id": "xfTEu1R47ZVL",
        "colab_type": "code",
        "colab": {
          "base_uri": "https://localhost:8080/",
          "height": 204
        },
        "outputId": "e5dab9d6-33cf-467f-c7de-b14bda8ec21b"
      },
      "source": [
        "!wget https://archive.ics.uci.edu/ml/machine-learning-databases/00352/Online%20Retail.xlsx"
      ],
      "execution_count": 1,
      "outputs": [
        {
          "output_type": "stream",
          "text": [
            "--2020-07-11 08:11:25--  https://archive.ics.uci.edu/ml/machine-learning-databases/00352/Online%20Retail.xlsx\n",
            "Resolving archive.ics.uci.edu (archive.ics.uci.edu)... 128.195.10.252\n",
            "Connecting to archive.ics.uci.edu (archive.ics.uci.edu)|128.195.10.252|:443... connected.\n",
            "HTTP request sent, awaiting response... 200 OK\n",
            "Length: 23715344 (23M) [application/x-httpd-php]\n",
            "Saving to: ‘Online Retail.xlsx’\n",
            "\n",
            "Online Retail.xlsx  100%[===================>]  22.62M  25.1MB/s    in 0.9s    \n",
            "\n",
            "2020-07-11 08:11:26 (25.1 MB/s) - ‘Online Retail.xlsx’ saved [23715344/23715344]\n",
            "\n"
          ],
          "name": "stdout"
        }
      ]
    },
    {
      "cell_type": "code",
      "metadata": {
        "id": "2_TrcxgT7YPU",
        "colab_type": "code",
        "colab": {}
      },
      "source": [
        "import pandas as pd\n",
        "import numpy as np\n",
        "import random\n",
        "from tqdm import tqdm\n",
        "from gensim.models import Word2Vec \n",
        "import matplotlib.pyplot as plt\n",
        "%matplotlib inline\n",
        "\n",
        "import warnings;\n",
        "warnings.filterwarnings('ignore')"
      ],
      "execution_count": 2,
      "outputs": []
    },
    {
      "cell_type": "code",
      "metadata": {
        "id": "8A3j-fwn7YPX",
        "colab_type": "code",
        "colab": {}
      },
      "source": [
        "df = pd.read_excel('Online Retail.xlsx')"
      ],
      "execution_count": 3,
      "outputs": []
    },
    {
      "cell_type": "markdown",
      "metadata": {
        "id": "y7p4-rOI7YPZ",
        "colab_type": "text"
      },
      "source": [
        "Let's take a quick look at our data. You can __download it from [here](https://archive.ics.uci.edu/ml/machine-learning-databases/00352/).__"
      ]
    },
    {
      "cell_type": "code",
      "metadata": {
        "id": "r66-k-fO7YPa",
        "colab_type": "code",
        "colab": {
          "base_uri": "https://localhost:8080/",
          "height": 204
        },
        "outputId": "8242fd8a-8505-4ad3-959d-500cc17f8efc"
      },
      "source": [
        "df.head()"
      ],
      "execution_count": 4,
      "outputs": [
        {
          "output_type": "execute_result",
          "data": {
            "text/html": [
              "<div>\n",
              "<style scoped>\n",
              "    .dataframe tbody tr th:only-of-type {\n",
              "        vertical-align: middle;\n",
              "    }\n",
              "\n",
              "    .dataframe tbody tr th {\n",
              "        vertical-align: top;\n",
              "    }\n",
              "\n",
              "    .dataframe thead th {\n",
              "        text-align: right;\n",
              "    }\n",
              "</style>\n",
              "<table border=\"1\" class=\"dataframe\">\n",
              "  <thead>\n",
              "    <tr style=\"text-align: right;\">\n",
              "      <th></th>\n",
              "      <th>InvoiceNo</th>\n",
              "      <th>StockCode</th>\n",
              "      <th>Description</th>\n",
              "      <th>Quantity</th>\n",
              "      <th>InvoiceDate</th>\n",
              "      <th>UnitPrice</th>\n",
              "      <th>CustomerID</th>\n",
              "      <th>Country</th>\n",
              "    </tr>\n",
              "  </thead>\n",
              "  <tbody>\n",
              "    <tr>\n",
              "      <th>0</th>\n",
              "      <td>536365</td>\n",
              "      <td>85123A</td>\n",
              "      <td>WHITE HANGING HEART T-LIGHT HOLDER</td>\n",
              "      <td>6</td>\n",
              "      <td>2010-12-01 08:26:00</td>\n",
              "      <td>2.55</td>\n",
              "      <td>17850.0</td>\n",
              "      <td>United Kingdom</td>\n",
              "    </tr>\n",
              "    <tr>\n",
              "      <th>1</th>\n",
              "      <td>536365</td>\n",
              "      <td>71053</td>\n",
              "      <td>WHITE METAL LANTERN</td>\n",
              "      <td>6</td>\n",
              "      <td>2010-12-01 08:26:00</td>\n",
              "      <td>3.39</td>\n",
              "      <td>17850.0</td>\n",
              "      <td>United Kingdom</td>\n",
              "    </tr>\n",
              "    <tr>\n",
              "      <th>2</th>\n",
              "      <td>536365</td>\n",
              "      <td>84406B</td>\n",
              "      <td>CREAM CUPID HEARTS COAT HANGER</td>\n",
              "      <td>8</td>\n",
              "      <td>2010-12-01 08:26:00</td>\n",
              "      <td>2.75</td>\n",
              "      <td>17850.0</td>\n",
              "      <td>United Kingdom</td>\n",
              "    </tr>\n",
              "    <tr>\n",
              "      <th>3</th>\n",
              "      <td>536365</td>\n",
              "      <td>84029G</td>\n",
              "      <td>KNITTED UNION FLAG HOT WATER BOTTLE</td>\n",
              "      <td>6</td>\n",
              "      <td>2010-12-01 08:26:00</td>\n",
              "      <td>3.39</td>\n",
              "      <td>17850.0</td>\n",
              "      <td>United Kingdom</td>\n",
              "    </tr>\n",
              "    <tr>\n",
              "      <th>4</th>\n",
              "      <td>536365</td>\n",
              "      <td>84029E</td>\n",
              "      <td>RED WOOLLY HOTTIE WHITE HEART.</td>\n",
              "      <td>6</td>\n",
              "      <td>2010-12-01 08:26:00</td>\n",
              "      <td>3.39</td>\n",
              "      <td>17850.0</td>\n",
              "      <td>United Kingdom</td>\n",
              "    </tr>\n",
              "  </tbody>\n",
              "</table>\n",
              "</div>"
            ],
            "text/plain": [
              "  InvoiceNo StockCode  ... CustomerID         Country\n",
              "0    536365    85123A  ...    17850.0  United Kingdom\n",
              "1    536365     71053  ...    17850.0  United Kingdom\n",
              "2    536365    84406B  ...    17850.0  United Kingdom\n",
              "3    536365    84029G  ...    17850.0  United Kingdom\n",
              "4    536365    84029E  ...    17850.0  United Kingdom\n",
              "\n",
              "[5 rows x 8 columns]"
            ]
          },
          "metadata": {
            "tags": []
          },
          "execution_count": 4
        }
      ]
    },
    {
      "cell_type": "markdown",
      "metadata": {
        "id": "zPXrPQpZ7YPd",
        "colab_type": "text"
      },
      "source": [
        "Given below is the description of the fields in this dataset:\n",
        "\n",
        "1. __InvoiceNo:__ Invoice number, a unique number assigned to each transaction.\n",
        "\n",
        "2. __StockCode:__ Product/item code. a unique number assigned to each distinct product.\n",
        "\n",
        "3. __Description:__ Product description\n",
        "\n",
        "4. __Quantity:__ The quantities of each product per transaction.\n",
        "\n",
        "5. __InvoiceDate:__ Invoice Date and time. The day and time when each transaction was generated.\n",
        "\n",
        "6. __CustomerID:__ Customer number, a unique number assigned to each customer."
      ]
    },
    {
      "cell_type": "code",
      "metadata": {
        "id": "P0Ncc7SD7YPd",
        "colab_type": "code",
        "colab": {
          "base_uri": "https://localhost:8080/",
          "height": 34
        },
        "outputId": "8ee5580a-3923-484d-ea33-505dda0333aa"
      },
      "source": [
        "df.shape"
      ],
      "execution_count": 5,
      "outputs": [
        {
          "output_type": "execute_result",
          "data": {
            "text/plain": [
              "(541909, 8)"
            ]
          },
          "metadata": {
            "tags": []
          },
          "execution_count": 5
        }
      ]
    },
    {
      "cell_type": "markdown",
      "metadata": {
        "id": "X1bHRaQi7YPg",
        "colab_type": "text"
      },
      "source": [
        "The dataset contains 541,909 transactions. That is a pretty good number for us."
      ]
    },
    {
      "cell_type": "markdown",
      "metadata": {
        "id": "dHuU_Zxu7YPg",
        "colab_type": "text"
      },
      "source": [
        "## Treat Missing Data"
      ]
    },
    {
      "cell_type": "code",
      "metadata": {
        "id": "gBMwMtig7YPg",
        "colab_type": "code",
        "colab": {
          "base_uri": "https://localhost:8080/",
          "height": 170
        },
        "outputId": "adecb7cf-efc3-475b-c7bc-5106b39ad03c"
      },
      "source": [
        "# check for missing values\n",
        "df.isnull().sum()"
      ],
      "execution_count": 6,
      "outputs": [
        {
          "output_type": "execute_result",
          "data": {
            "text/plain": [
              "InvoiceNo           0\n",
              "StockCode           0\n",
              "Description      1454\n",
              "Quantity            0\n",
              "InvoiceDate         0\n",
              "UnitPrice           0\n",
              "CustomerID     135080\n",
              "Country             0\n",
              "dtype: int64"
            ]
          },
          "metadata": {
            "tags": []
          },
          "execution_count": 6
        }
      ]
    },
    {
      "cell_type": "markdown",
      "metadata": {
        "id": "CvS3sX2J7YPj",
        "colab_type": "text"
      },
      "source": [
        "<br>\n",
        "Since we have sufficient data, we will drop all the rows with missing values."
      ]
    },
    {
      "cell_type": "code",
      "metadata": {
        "id": "SjAT4cGa7YPj",
        "colab_type": "code",
        "colab": {
          "base_uri": "https://localhost:8080/",
          "height": 170
        },
        "outputId": "b7f32ab9-af7a-4e3d-c9ca-0f6b931a790f"
      },
      "source": [
        "# remove missing values\n",
        "df.dropna(inplace=True)\n",
        "\n",
        "# again check missing values\n",
        "df.isnull().sum()"
      ],
      "execution_count": 7,
      "outputs": [
        {
          "output_type": "execute_result",
          "data": {
            "text/plain": [
              "InvoiceNo      0\n",
              "StockCode      0\n",
              "Description    0\n",
              "Quantity       0\n",
              "InvoiceDate    0\n",
              "UnitPrice      0\n",
              "CustomerID     0\n",
              "Country        0\n",
              "dtype: int64"
            ]
          },
          "metadata": {
            "tags": []
          },
          "execution_count": 7
        }
      ]
    },
    {
      "cell_type": "markdown",
      "metadata": {
        "id": "Wa31GmVI7YPm",
        "colab_type": "text"
      },
      "source": [
        "## Data Preparation"
      ]
    },
    {
      "cell_type": "markdown",
      "metadata": {
        "id": "grK2k2Aa7YPm",
        "colab_type": "text"
      },
      "source": [
        "Let's convert the StockCode to string datatype."
      ]
    },
    {
      "cell_type": "code",
      "metadata": {
        "id": "uIYvLp0Y7YPn",
        "colab_type": "code",
        "colab": {}
      },
      "source": [
        "df['StockCode']= df['StockCode'].astype(str)"
      ],
      "execution_count": 8,
      "outputs": []
    },
    {
      "cell_type": "markdown",
      "metadata": {
        "id": "QAbwFyII7YPp",
        "colab_type": "text"
      },
      "source": [
        "Let's check out the number of unique customers in our dataset."
      ]
    },
    {
      "cell_type": "code",
      "metadata": {
        "id": "BDDFIfsl7YPp",
        "colab_type": "code",
        "colab": {
          "base_uri": "https://localhost:8080/",
          "height": 34
        },
        "outputId": "78b174d1-e28e-4781-8c16-386a32c25f6b"
      },
      "source": [
        "customers = df[\"CustomerID\"].unique().tolist()\n",
        "len(customers)"
      ],
      "execution_count": 9,
      "outputs": [
        {
          "output_type": "execute_result",
          "data": {
            "text/plain": [
              "4372"
            ]
          },
          "metadata": {
            "tags": []
          },
          "execution_count": 9
        }
      ]
    },
    {
      "cell_type": "markdown",
      "metadata": {
        "id": "2UUljye47YPr",
        "colab_type": "text"
      },
      "source": [
        "There are 4,372 customers in our dataset. For each of these customers we will extract their buying history. In other words, we can have 4,372 sequences of purchases."
      ]
    },
    {
      "cell_type": "markdown",
      "metadata": {
        "id": "zSwBHpJE7YPs",
        "colab_type": "text"
      },
      "source": [
        "It is a good practice to set aside a small part of the dataset for validation purpose. Therefore, I will use data of 90% of the customers to create word2vec embeddings. Let's split the data."
      ]
    },
    {
      "cell_type": "code",
      "metadata": {
        "id": "YT9ky5jn7YPs",
        "colab_type": "code",
        "colab": {}
      },
      "source": [
        "# shuffle customer ID's\n",
        "random.shuffle(customers)\n",
        "\n",
        "# extract 90% of customer ID's\n",
        "customers_train = [customers[i] for i in range(round(0.9*len(customers)))]\n",
        "\n",
        "# split data into train and validation set\n",
        "train_df = df[df['CustomerID'].isin(customers_train)]\n",
        "validation_df = df[~df['CustomerID'].isin(customers_train)]"
      ],
      "execution_count": 10,
      "outputs": []
    },
    {
      "cell_type": "markdown",
      "metadata": {
        "id": "1SsCxM0W7YPu",
        "colab_type": "text"
      },
      "source": [
        "Let's create sequences of purchases made by the customers in the dataset for both the train and validation set."
      ]
    },
    {
      "cell_type": "code",
      "metadata": {
        "id": "yc6N22pq7YPv",
        "colab_type": "code",
        "colab": {
          "base_uri": "https://localhost:8080/",
          "height": 34
        },
        "outputId": "075253c9-0ae9-4c4d-e004-aecc63738606"
      },
      "source": [
        "# list to capture purchase history of the customers\n",
        "purchases_train = []\n",
        "\n",
        "# populate the list with the product codes\n",
        "for i in tqdm(customers_train):\n",
        "    temp = train_df[train_df[\"CustomerID\"] == i][\"StockCode\"].tolist()\n",
        "    purchases_train.append(temp)"
      ],
      "execution_count": 11,
      "outputs": [
        {
          "output_type": "stream",
          "text": [
            "100%|██████████| 3935/3935 [00:04<00:00, 830.02it/s]\n"
          ],
          "name": "stderr"
        }
      ]
    },
    {
      "cell_type": "code",
      "metadata": {
        "id": "lblLX5vh7YPx",
        "colab_type": "code",
        "colab": {
          "base_uri": "https://localhost:8080/",
          "height": 34
        },
        "outputId": "723f8713-0cad-4f35-9681-9d8254a15693"
      },
      "source": [
        "# list to capture purchase history of the customers\n",
        "purchases_val = []\n",
        "\n",
        "# populate the list with the product codes\n",
        "for i in tqdm(validation_df['CustomerID'].unique()):\n",
        "    temp = validation_df[validation_df[\"CustomerID\"] == i][\"StockCode\"].tolist()\n",
        "    purchases_val.append(temp)"
      ],
      "execution_count": 12,
      "outputs": [
        {
          "output_type": "stream",
          "text": [
            "100%|██████████| 437/437 [00:00<00:00, 1145.26it/s]\n"
          ],
          "name": "stderr"
        }
      ]
    },
    {
      "cell_type": "markdown",
      "metadata": {
        "id": "8EHKO2CM7YPz",
        "colab_type": "text"
      },
      "source": [
        "## Build word2vec Embeddings for Products"
      ]
    },
    {
      "cell_type": "code",
      "metadata": {
        "id": "bYjb4tWW7YP0",
        "colab_type": "code",
        "colab": {
          "base_uri": "https://localhost:8080/",
          "height": 34
        },
        "outputId": "da394a77-2a25-4602-e10a-9f52b8ab5ff0"
      },
      "source": [
        "# train word2vec model\n",
        "model = Word2Vec(window = 10, sg = 1, hs = 0,\n",
        "                 negative = 10, # for negative sampling\n",
        "                 alpha=0.03, min_alpha=0.0007,\n",
        "                 seed = 14)\n",
        "\n",
        "model.build_vocab(purchases_train, progress_per=200)\n",
        "\n",
        "model.train(purchases_train, total_examples = model.corpus_count, \n",
        "            epochs=10, report_delay=1)"
      ],
      "execution_count": 13,
      "outputs": [
        {
          "output_type": "execute_result",
          "data": {
            "text/plain": [
              "(3678877, 3715480)"
            ]
          },
          "metadata": {
            "tags": []
          },
          "execution_count": 13
        }
      ]
    },
    {
      "cell_type": "code",
      "metadata": {
        "id": "mE_6-y0A7YP2",
        "colab_type": "code",
        "colab": {}
      },
      "source": [
        "# save word2vec model\n",
        "model.save(\"word2vec_2.model\")"
      ],
      "execution_count": 14,
      "outputs": []
    },
    {
      "cell_type": "markdown",
      "metadata": {
        "id": "n9thTV6P7YP4",
        "colab_type": "text"
      },
      "source": [
        "As we do not plan to train the model any further, we are calling init_sims(), which will make the model much more memory-efficient."
      ]
    },
    {
      "cell_type": "code",
      "metadata": {
        "id": "HYIZCRtc7YP4",
        "colab_type": "code",
        "colab": {}
      },
      "source": [
        "model.init_sims(replace=True)"
      ],
      "execution_count": 15,
      "outputs": []
    },
    {
      "cell_type": "code",
      "metadata": {
        "id": "W59-YgKs7YP6",
        "colab_type": "code",
        "colab": {
          "base_uri": "https://localhost:8080/",
          "height": 34
        },
        "outputId": "ec4b4ee9-e415-49da-982e-451ab26e1006"
      },
      "source": [
        "print(model)"
      ],
      "execution_count": 16,
      "outputs": [
        {
          "output_type": "stream",
          "text": [
            "Word2Vec(vocab=3177, size=100, alpha=0.03)\n"
          ],
          "name": "stdout"
        }
      ]
    },
    {
      "cell_type": "markdown",
      "metadata": {
        "id": "OeJmyb1I7YP8",
        "colab_type": "text"
      },
      "source": [
        "Now we will extract the vectors of all the words in our vocabulary and store it in one place for easy access."
      ]
    },
    {
      "cell_type": "code",
      "metadata": {
        "id": "VBuVJESm7YP9",
        "colab_type": "code",
        "colab": {
          "base_uri": "https://localhost:8080/",
          "height": 34
        },
        "outputId": "3c0a54a5-489c-4332-c1f8-a65fb8870c89"
      },
      "source": [
        "# extract all vectors\n",
        "X = model[model.wv.vocab]\n",
        "\n",
        "X.shape"
      ],
      "execution_count": 17,
      "outputs": [
        {
          "output_type": "execute_result",
          "data": {
            "text/plain": [
              "(3177, 100)"
            ]
          },
          "metadata": {
            "tags": []
          },
          "execution_count": 17
        }
      ]
    },
    {
      "cell_type": "code",
      "metadata": {
        "id": "QEas37cA90M-",
        "colab_type": "code",
        "colab": {
          "base_uri": "https://localhost:8080/",
          "height": 238
        },
        "outputId": "b431202f-8e86-4832-eefb-7c21e51c1535"
      },
      "source": [
        "X"
      ],
      "execution_count": 28,
      "outputs": [
        {
          "output_type": "execute_result",
          "data": {
            "text/plain": [
              "array([[ 0.10507114,  0.18872792, -0.03143676, ..., -0.05905455,\n",
              "         0.13620079,  0.08301818],\n",
              "       [-0.18894926,  0.03202036,  0.08355117, ..., -0.0418271 ,\n",
              "         0.00948834,  0.10505065],\n",
              "       [-0.21153978,  0.11923069,  0.14328331, ...,  0.03351302,\n",
              "         0.02850087,  0.08325876],\n",
              "       ...,\n",
              "       [ 0.09124231,  0.06530745,  0.14452374, ...,  0.04680432,\n",
              "        -0.08917458,  0.19849084],\n",
              "       [-0.12984806,  0.1307854 ,  0.12176798, ...,  0.05276942,\n",
              "        -0.1071957 ,  0.21816066],\n",
              "       [ 0.16485387,  0.03070019, -0.06189555, ..., -0.00065943,\n",
              "         0.10270275,  0.1610734 ]], dtype=float32)"
            ]
          },
          "metadata": {
            "tags": []
          },
          "execution_count": 28
        }
      ]
    },
    {
      "cell_type": "markdown",
      "metadata": {
        "id": "NhV4R_m07YP_",
        "colab_type": "text"
      },
      "source": [
        "## Visualize word2vec Embeddings"
      ]
    },
    {
      "cell_type": "markdown",
      "metadata": {
        "id": "R9F2joYr7YP_",
        "colab_type": "text"
      },
      "source": [
        "It is always quite helpful to visualize the embeddings that you have created. Over here we have 100 dimensional embeddings. We can't even visualize 4 dimensions let alone 100. Therefore, we are going to reduce the dimensions of the product embeddings from 100 to 2 by using the UMAP algorithm, it is used for dimensionality reduction. "
      ]
    },
    {
      "cell_type": "code",
      "metadata": {
        "id": "tfdk1zmg7YP_",
        "colab_type": "code",
        "colab": {
          "base_uri": "https://localhost:8080/",
          "height": 554
        },
        "outputId": "389d71c4-fcf5-4db2-9040-52dbc41d658c"
      },
      "source": [
        "import umap\n",
        "\n",
        "cluster_embedding = umap.UMAP(n_neighbors=30, min_dist=0.0,\n",
        "                              n_components=2, random_state=42).fit_transform(X)\n",
        "\n",
        "plt.figure(figsize=(10,9))\n",
        "plt.scatter(cluster_embedding[:, 0], cluster_embedding[:, 1], s=3, cmap='Spectral')"
      ],
      "execution_count": 18,
      "outputs": [
        {
          "output_type": "execute_result",
          "data": {
            "text/plain": [
              "<matplotlib.collections.PathCollection at 0x7f04dcfd5fd0>"
            ]
          },
          "metadata": {
            "tags": []
          },
          "execution_count": 18
        },
        {
          "output_type": "display_data",
          "data": {
            "image/png": "[encoded data removed]",
            "text/plain": [
              "<Figure size 720x648 with 1 Axes>"
            ]
          },
          "metadata": {
            "tags": [],
            "needs_background": "light"
          }
        }
      ]
    },
    {
      "cell_type": "markdown",
      "metadata": {
        "id": "D0N0kJ8y7YQB",
        "colab_type": "text"
      },
      "source": [
        "Every dot in this plot is a product. As you can see, there are several tiny clusters of these datapoints. These are groups of similar products."
      ]
    },
    {
      "cell_type": "markdown",
      "metadata": {
        "id": "mqZsDb5I7YQB",
        "colab_type": "text"
      },
      "source": [
        "## Start Recommending Products"
      ]
    },
    {
      "cell_type": "markdown",
      "metadata": {
        "id": "OzTRsG057YQC",
        "colab_type": "text"
      },
      "source": [
        "Congratulations! We are finally ready with the word2vec embeddings for every product in our online retail dataset. Now our next step is to suggest similar products for a certain product or a product's vector. "
      ]
    },
    {
      "cell_type": "markdown",
      "metadata": {
        "id": "UI9IY3ZJ7YQC",
        "colab_type": "text"
      },
      "source": [
        "Let's first create a product-ID and product-description dictionary to easily map a product's description to its ID and vice versa."
      ]
    },
    {
      "cell_type": "code",
      "metadata": {
        "id": "XA2o8kFH7YQD",
        "colab_type": "code",
        "colab": {}
      },
      "source": [
        "products = train_df[[\"StockCode\", \"Description\"]]\n",
        "\n",
        "# remove duplicates\n",
        "products.drop_duplicates(inplace=True, subset='StockCode', keep=\"last\")\n",
        "\n",
        "# create product-ID and product-description dictionary\n",
        "products_dict = products.groupby('StockCode')['Description'].apply(list).to_dict()"
      ],
      "execution_count": 19,
      "outputs": []
    },
    {
      "cell_type": "code",
      "metadata": {
        "id": "0RKuUH3L7YQE",
        "colab_type": "code",
        "colab": {
          "base_uri": "https://localhost:8080/",
          "height": 34
        },
        "outputId": "3478b5da-825b-4212-c730-b7de03c0dd40"
      },
      "source": [
        "# test the dictionary\n",
        "products_dict['84029E']"
      ],
      "execution_count": 20,
      "outputs": [
        {
          "output_type": "execute_result",
          "data": {
            "text/plain": [
              "['RED WOOLLY HOTTIE WHITE HEART.']"
            ]
          },
          "metadata": {
            "tags": []
          },
          "execution_count": 20
        }
      ]
    },
    {
      "cell_type": "markdown",
      "metadata": {
        "id": "5ttuDF547YQH",
        "colab_type": "text"
      },
      "source": [
        "<br>\n",
        "\n",
        "I have defined the function below. It will take a product's vector (n) as input and return top 6 similar products."
      ]
    },
    {
      "cell_type": "code",
      "metadata": {
        "id": "hvOalw1x7YQI",
        "colab_type": "code",
        "colab": {}
      },
      "source": [
        "def similar_products(v, n = 6):\n",
        "    \n",
        "    # extract most similar products for the input vector\n",
        "    ms = model.similar_by_vector(v, topn= n+1)[1:]\n",
        "    \n",
        "    # extract name and similarity score of the similar products\n",
        "    new_ms = []\n",
        "    for j in ms:\n",
        "        pair = (products_dict[j[0]][0], j[1])\n",
        "        new_ms.append(pair)\n",
        "        \n",
        "    return new_ms        "
      ],
      "execution_count": 21,
      "outputs": []
    },
    {
      "cell_type": "markdown",
      "metadata": {
        "id": "SCga_OWx7YQJ",
        "colab_type": "text"
      },
      "source": [
        "Let's try out our function by passing the vector of the product '90019A' ('SILVER M.O.P ORBIT BRACELET')"
      ]
    },
    {
      "cell_type": "code",
      "metadata": {
        "id": "UdySGKxz7YQK",
        "colab_type": "code",
        "colab": {
          "base_uri": "https://localhost:8080/",
          "height": 119
        },
        "outputId": "6e753a3b-dd62-4d73-ed3c-d1a3e8c3632c"
      },
      "source": [
        "similar_products(model['90019A'])"
      ],
      "execution_count": 22,
      "outputs": [
        {
          "output_type": "execute_result",
          "data": {
            "text/plain": [
              "[('SILVER M.O.P ORBIT DROP EARRINGS', 0.7897772789001465),\n",
              " ('AMBER DROP EARRINGS W LONG BEADS', 0.7834053635597229),\n",
              " ('BLACK VINTAGE  CRYSTAL EARRINGS', 0.7747366428375244),\n",
              " ('DROP DIAMANTE EARRINGS PURPLE', 0.7682084441184998),\n",
              " ('GOLD/M.O.P PENDANT ORBIT NECKLACE', 0.7485804557800293),\n",
              " ('WHITE VINT ART DECO CRYSTAL NECKLAC', 0.7412924766540527)]"
            ]
          },
          "metadata": {
            "tags": []
          },
          "execution_count": 22
        }
      ]
    },
    {
      "cell_type": "markdown",
      "metadata": {
        "id": "TWexopk47YQM",
        "colab_type": "text"
      },
      "source": [
        "<br>\n",
        "\n",
        "Cool! The results are pretty relevant and match well with the input product. However, this output is based on the vector of a single product only. What if we want recommend a user products based on the multiple purchases he or she has made in the past?\n",
        "\n",
        "One simple solution is to take average of all the vectors of the products he has bought so far and use this resultant vector to find similar products. For that we will use the function below that takes in a list of product ID's and gives out a 100 dimensional vector which is mean of vectors of the products in the input list."
      ]
    },
    {
      "cell_type": "code",
      "metadata": {
        "id": "_mtEcicD7YQM",
        "colab_type": "code",
        "colab": {}
      },
      "source": [
        "def aggregate_vectors(products):\n",
        "    product_vec = []\n",
        "    for i in products:\n",
        "        try:\n",
        "            product_vec.append(model[i])\n",
        "        except KeyError:\n",
        "            continue\n",
        "        \n",
        "    return np.mean(product_vec, axis=0)"
      ],
      "execution_count": 23,
      "outputs": []
    },
    {
      "cell_type": "markdown",
      "metadata": {
        "id": "haS0VBjK7YQO",
        "colab_type": "text"
      },
      "source": [
        "If you can recall, we have already created a separate list of purchase sequences for validation purpose. Now let's make use of that."
      ]
    },
    {
      "cell_type": "code",
      "metadata": {
        "id": "p0ZfnX-H7YQP",
        "colab_type": "code",
        "colab": {
          "base_uri": "https://localhost:8080/",
          "height": 34
        },
        "outputId": "325da5bd-81fd-4468-85d6-3e04f8bb4451"
      },
      "source": [
        "len(purchases_val[0])"
      ],
      "execution_count": 24,
      "outputs": [
        {
          "output_type": "execute_result",
          "data": {
            "text/plain": [
              "13"
            ]
          },
          "metadata": {
            "tags": []
          },
          "execution_count": 24
        }
      ]
    },
    {
      "cell_type": "markdown",
      "metadata": {
        "id": "DfZT1LMB7YQQ",
        "colab_type": "text"
      },
      "source": [
        "The length of the first list of products purchased by a user is 314. We will pass this products' sequence of the validation set to the function *aggregate_vectors*."
      ]
    },
    {
      "cell_type": "code",
      "metadata": {
        "id": "ixouraDf7YQR",
        "colab_type": "code",
        "colab": {
          "base_uri": "https://localhost:8080/",
          "height": 34
        },
        "outputId": "901fe6b2-7eb1-4302-80c9-fdb069d02703"
      },
      "source": [
        "aggregate_vectors(purchases_val[0]).shape"
      ],
      "execution_count": 25,
      "outputs": [
        {
          "output_type": "execute_result",
          "data": {
            "text/plain": [
              "(100,)"
            ]
          },
          "metadata": {
            "tags": []
          },
          "execution_count": 25
        }
      ]
    },
    {
      "cell_type": "markdown",
      "metadata": {
        "id": "iptoXATa7YQS",
        "colab_type": "text"
      },
      "source": [
        "Well, the function has returned an array of 100 dimension. It means the function is working fine. Now we can use this result to get the most similar products. Let's do it."
      ]
    },
    {
      "cell_type": "code",
      "metadata": {
        "id": "JrCwKLHI7YQT",
        "colab_type": "code",
        "colab": {
          "base_uri": "https://localhost:8080/",
          "height": 119
        },
        "outputId": "86f2d9d0-7f9a-4354-fd48-7fc5ce54fabc"
      },
      "source": [
        "similar_products(aggregate_vectors(purchases_val[0]))"
      ],
      "execution_count": 26,
      "outputs": [
        {
          "output_type": "execute_result",
          "data": {
            "text/plain": [
              "[('REGENCY MIRROR WITH SHUTTERS', 0.7504738569259644),\n",
              " ('CREAM HANGING HEART T-LIGHT HOLDER', 0.7334078550338745),\n",
              " ('WOOD BLACK BOARD ANT WHITE FINISH', 0.7267806529998779),\n",
              " ('ENAMEL FLOWER JUG CREAM', 0.7093257904052734),\n",
              " ('CREAM SWEETHEART MINI CHEST', 0.7091763019561768),\n",
              " ('T-LIGHT HOLDER SWEETHEART HANGING', 0.7026457190513611)]"
            ]
          },
          "metadata": {
            "tags": []
          },
          "execution_count": 26
        }
      ]
    },
    {
      "cell_type": "markdown",
      "metadata": {
        "id": "XAF3wvrd7YQV",
        "colab_type": "text"
      },
      "source": [
        "As it turns out, our system has recommended 6 products based on the entire purchase history of a user. Moreover, if you want to get products suggestions based on the last few purchases only then also you can use the same set of functions.\n",
        "\n",
        "Below I am giving only the last 10 products purchased as input."
      ]
    },
    {
      "cell_type": "code",
      "metadata": {
        "id": "am5JczLm7YQW",
        "colab_type": "code",
        "colab": {
          "base_uri": "https://localhost:8080/",
          "height": 119
        },
        "outputId": "27ec8296-450d-4bab-f964-6fe9357601f1"
      },
      "source": [
        "similar_products(aggregate_vectors(purchases_val[0][-10:]))"
      ],
      "execution_count": 27,
      "outputs": [
        {
          "output_type": "execute_result",
          "data": {
            "text/plain": [
              "[('NATURAL SLATE HEART CHALKBOARD ', 0.7384638786315918),\n",
              " ('ENAMEL FLOWER JUG CREAM', 0.7345110177993774),\n",
              " ('HEART OF WICKER LARGE', 0.7251852750778198),\n",
              " ('HEART OF WICKER SMALL', 0.7158257961273193),\n",
              " ('CREAM HANGING HEART T-LIGHT HOLDER', 0.7157580852508545),\n",
              " ('FINE WICKER HEART ', 0.6993842124938965)]"
            ]
          },
          "metadata": {
            "tags": []
          },
          "execution_count": 27
        }
      ]
    },
    {
      "cell_type": "markdown",
      "metadata": {
        "id": "Gme5c-C17YQY",
        "colab_type": "text"
      },
      "source": [
        "Feel free to play this code, try to get product recommendation for more sequences from the validation set"
      ]
    }
  ]
}